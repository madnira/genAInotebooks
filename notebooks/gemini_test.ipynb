{
 "cells": [
  {
   "cell_type": "code",
   "execution_count": null,
   "metadata": {},
   "outputs": [],
   "source": [
    "# pip install google-generativeai\n",
    "import google.generativeai as genai\n",
    "import os\n",
    "from IPython.display import Markdown"
   ]
  },
  {
   "cell_type": "code",
   "execution_count": null,
   "metadata": {},
   "outputs": [],
   "source": [
    "import os\n",
    "from dotenv import load_dotenv\n",
    "load_dotenv()\n",
    "API_KEY = os.getenv(\"GEMINI_API_KEY\") # Make sure the API key is there in the environment variables\n",
    "#print(API_KEY)"
   ]
  },
  {
   "cell_type": "code",
   "execution_count": null,
   "metadata": {},
   "outputs": [],
   "source": [
    "genai.configure(api_key=API_KEY)  #Configuring the genai object with the API key\n",
    "\n",
    "model = genai.GenerativeModel('gemini-1.5-flash') #Using latest gemini model\n"
   ]
  },
  {
   "cell_type": "code",
   "execution_count": null,
   "metadata": {},
   "outputs": [],
   "source": [
    "response = model.generate_content(\"Generate a 9 alphabet word\")\n",
    "print(response.text)"
   ]
  },
  {
   "cell_type": "code",
   "execution_count": null,
   "metadata": {},
   "outputs": [],
   "source": [
    "# List all Google AI models\n",
    "\n",
    "for m in genai.list_models():\n",
    "  if 'generateContent' in m.supported_generation_methods:\n",
    "    print(m.name)"
   ]
  },
  {
   "cell_type": "markdown",
   "metadata": {},
   "source": [
    "QnA"
   ]
  },
  {
   "cell_type": "code",
   "execution_count": null,
   "metadata": {},
   "outputs": [],
   "source": [
    "qna_model = genai.GenerativeModel('models/gemini-1.0-pro')"
   ]
  },
  {
   "cell_type": "code",
   "execution_count": null,
   "metadata": {},
   "outputs": [],
   "source": [
    "passage = \"\"\"Physics\n",
    "206wave had to come in the low frequency region (the radio\n",
    "wave region), as in the Hertz’s experiment (1887).\n",
    "Hertz’s successful experimental test of Maxwell’s\n",
    "theory created a sensation and sparked off other\n",
    "important works in this field. Two important\n",
    "achievements in this connection deserve mention. Seven\n",
    "years after Hertz, Jagdish Chandra Bose, working at\n",
    "Calcutta (now Kolkata),  succeeded in producing and\n",
    "observing electromagnetic waves of much shorter\n",
    "wavelength (25 mm to 5 mm). His experiment, like that\n",
    "of Hertz’s, was confined to the laboratory.\n",
    "At around the same time, Guglielmo Marconi in Italy\n",
    "followed Hertz’s work and succeeded in transmitting\n",
    "electromagnetic waves over distances of many kilometres.\n",
    "Marconi’s experiment marks the beginning of the field of\n",
    "communication using electromagnetic waves.\n",
    "8.3.2  Nature of electromagnetic waves\n",
    "It can be shown from Maxwell’s equations that electric\n",
    "and magnetic fields in an electromagnetic wave are\n",
    "perpendicular to each other , and to the dir ection of\n",
    "propagation. It appears reasonable, say from our\n",
    "discussion of the displacement current. Consider\n",
    "Fig. 8.2. The electric field inside the plates of the capacitor\n",
    "is directed perpendicular to the plates. The magnetic\n",
    "field this gives rise to via the displacement current is\n",
    "along the perimeter of a circle parallel to the capacitor\n",
    "plates. So B and E are perpendicular in this case. This\n",
    "is a general feature.\n",
    "In Fig. 8.3, we show a typical example of a plane\n",
    "electromagnetic wave propagating along the z direction\n",
    "(the fields are shown as a function of the z coordinate, at\n",
    "a given time t). The electric field Ex is along the x-axis,\n",
    "and varies sinusoidally with z, at a given time. The\n",
    "magnetic field By is along the y-axis, and again varies\n",
    "sinusoidally with z. The electric and magnetic fields Ex\n",
    "and By are perpendicular to each\n",
    "other , and to the dir ection z of\n",
    "propagation. W e can write Ex and\n",
    "By as follows:\n",
    "Ex= E0 sin ( kz–wt)[8.7(a)]\n",
    "By= B0 sin ( kz–wt)[8.7(b)]\n",
    "Here k is related to the wave length\n",
    "l of the wave by the usual\n",
    "equation\n",
    "2kλπ= (8.8) EXAMPLE  8.1\n",
    "Heinrich Rudolf Hertz\n",
    "(1857 – 1894)  German\n",
    "physicist who was the\n",
    "first to broadcast and\n",
    "receive radio waves. He\n",
    "produced electro-\n",
    "magnetic waves, sent\n",
    "them through space, and\n",
    "measured their wave-\n",
    "length and speed. He\n",
    "showed that the nature\n",
    "of their vibration,\n",
    "reflection and refraction\n",
    "was the same as that of\n",
    "light and heat waves,\n",
    "establishing their\n",
    "identity for the first time.\n",
    "He also pioneered\n",
    "research on discharge of\n",
    "electricity through gases,\n",
    "and discovered the\n",
    "photoelectric effect.\n",
    "HEINRICH RUDOLF HER TZ (1857–1894)\n",
    "FIGURE  8.3 A linearly polarised electromagnetic wave,\n",
    "propagating in the z-direction with the oscillating electric field E\n",
    "along the x-direction and the oscillating magnetic field B along\n",
    "the y-direction.\n",
    "2024-25\n",
    "\"\"\""
   ]
  },
  {
   "cell_type": "code",
   "execution_count": null,
   "metadata": {},
   "outputs": [],
   "source": [
    "query = \"Tell maxwell's equation ?\""
   ]
  },
  {
   "cell_type": "code",
   "execution_count": null,
   "metadata": {},
   "outputs": [],
   "source": [
    "prompt = (f\"\"\"Behave like a teacher who answers questions using text from the passage included below. \\\n",
    "          Be sure to respond in a complete sentence, being comprehensive, including all relevant background information. \\\n",
    "          Try to give short answers for direct questions.\\\n",
    "          If the passage is irrelevant to the answer, you may ignore it.\n",
    "          QUESTION: '{query}'\n",
    "          PASSAGE: '{passage}'\n",
    "          ANSWER:\n",
    "        \"\"\")"
   ]
  },
  {
   "cell_type": "code",
   "execution_count": null,
   "metadata": {},
   "outputs": [],
   "source": [
    "print(prompt)"
   ]
  },
  {
   "cell_type": "code",
   "execution_count": null,
   "metadata": {},
   "outputs": [],
   "source": [
    "answer = qna_model.generate_content(prompt)"
   ]
  },
  {
   "cell_type": "code",
   "execution_count": null,
   "metadata": {},
   "outputs": [],
   "source": [
    "#print(answer)\n",
    "Markdown(answer.text)"
   ]
  },
  {
   "cell_type": "code",
   "execution_count": 2,
   "metadata": {},
   "outputs": [],
   "source": [
    "from flask import jsonify "
   ]
  }
 ],
 "metadata": {
  "kernelspec": {
   "display_name": ".venv",
   "language": "python",
   "name": "python3"
  },
  "language_info": {
   "codemirror_mode": {
    "name": "ipython",
    "version": 3
   },
   "file_extension": ".py",
   "mimetype": "text/x-python",
   "name": "python",
   "nbconvert_exporter": "python",
   "pygments_lexer": "ipython3",
   "version": "3.9.6"
  }
 },
 "nbformat": 4,
 "nbformat_minor": 2
}
