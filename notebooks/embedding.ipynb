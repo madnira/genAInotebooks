{
 "cells": [
  {
   "cell_type": "code",
   "execution_count": null,
   "metadata": {},
   "outputs": [],
   "source": [
    "import json\n",
    "import os\n",
    "from sentence_transformers import SentenceTransformer"
   ]
  },
  {
   "cell_type": "code",
   "execution_count": null,
   "metadata": {},
   "outputs": [],
   "source": [
    "\n",
    "def update_json_with_embeddings(input_file, output_file, model_name=\"all-mpnet-base-v2\"):\n",
    "  \"\"\"\n",
    "  Updates a JSON file with content vectors for each entry.\n",
    "\n",
    "  Args:\n",
    "      input_file: Path to the input JSON file.\n",
    "      output_file: Path to the output JSON file.\n",
    "      model_name: Name of the pre-trained SentenceTransformer model (default: all-mpnet-base-v2).\n",
    "  \"\"\"\n",
    "  # Load data from JSON file\n",
    "  with open(os.path.join(dir, input_file), \"r\") as f:\n",
    "    data = json.load(f)\n",
    "\n",
    "  # Load the SentenceTransformer model\n",
    "  model = SentenceTransformer(model_name)\n",
    "\n",
    "    # Process each entry in the data\n",
    "  for item in data :\n",
    "    content = item[\"Content\"]\n",
    "    \n",
    "    # Encode the content as a list of sentences (assuming line breaks separate sentences)\n",
    "    #sentences = content.splitlines()\n",
    "    # We are capturing sentence embeddings from each sentences in the content\n",
    "    item[\"ContentVector\"] = model.encode(content).tolist()  # Convert to list\n",
    "    \n",
    "\n",
    "  # Write updated data to output JSON file\n",
    "  with open(os.path.join(dir, output_file), \"w\") as f:\n",
    "    json.dump(data, f, indent=4)\n",
    "\n",
    "\n",
    "# Example usage\n",
    "dir = \"../jsonfiles/\" # local path where the json files are saved\n",
    "input_file = \"data.json\"  # Replace with your actual input file\n",
    "output_file = \"data_with_embeddings.json\" # rename with the desired embedding file\n",
    "update_json_with_embeddings(input_file, output_file)\n",
    "print(f\"Successfully updated JSON with embeddings: {output_file}\")\n"
   ]
  }
 ],
 "metadata": {
  "kernelspec": {
   "display_name": ".venv",
   "language": "python",
   "name": "python3"
  },
  "language_info": {
   "codemirror_mode": {
    "name": "ipython",
    "version": 3
   },
   "file_extension": ".py",
   "mimetype": "text/x-python",
   "name": "python",
   "nbconvert_exporter": "python",
   "pygments_lexer": "ipython3",
   "version": "3.9.6"
  }
 },
 "nbformat": 4,
 "nbformat_minor": 2
}
