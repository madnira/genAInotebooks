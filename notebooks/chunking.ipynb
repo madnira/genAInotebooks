{
 "cells": [
  {
   "cell_type": "markdown",
   "metadata": {},
   "source": [
    "PyPDF2 is used to extract text from the PDF files and then chunks are created per page and saved in a folder with the name of the chunks as the name of the document with it's page number"
   ]
  },
  {
   "cell_type": "code",
   "execution_count": null,
   "metadata": {},
   "outputs": [],
   "source": [
    "import json\n",
    "import os\n",
    "import PyPDF2  "
   ]
  },
  {
   "cell_type": "code",
   "execution_count": null,
   "metadata": {},
   "outputs": [],
   "source": [
    "from PyPDF2 import PdfReader\n",
    "\n",
    "def convert_pdfs_to_txt(directory, chunk_size=1000): # Defining the chunk size as 1000\n",
    "  \"\"\"\n",
    "  Iterates through a directory, converts all PDFs to TXTs with each page as a separate file.\n",
    "\n",
    "  Args:\n",
    "    directory: Path to the directory containing PDFs.\n",
    "    chunk_size: Number of lines to write to each TXT file.\n",
    "  \"\"\"\n",
    "  for path, _, files in os.walk(directory):\n",
    "    for filename in files:\n",
    "      if filename.endswith(\".pdf\"):\n",
    "        pdf_path = os.path.join(path, filename)\n",
    "        pdf_reader = PdfReader(pdf_path)\n",
    "        for page_num in range(len(pdf_reader.pages)):\n",
    "          page = pdf_reader.pages[page_num]\n",
    "          text = page.extract_text()\n",
    "          lines = text.splitlines()\n",
    "\n",
    "          # Create filename with page number\n",
    "          txt_filename = f\"{os.path.splitext(filename)[0]}_page_{page_num + 1}.txt\"\n",
    "          txt_path = os.path.join(chunk_dir, txt_filename)\n",
    "\n",
    "          with open(txt_path, \"w\") as txt_file:\n",
    "            for i in range(0, len(lines), chunk_size):\n",
    "              txt_file.write(\"\\n\".join(lines[i:i + chunk_size]) + \"\\n\")\n",
    "              # Check if there are remaining lines\n",
    "              if i + chunk_size < len(lines):\n",
    "                  # Write remaining lines if any\n",
    "                  txt_file.write(\"\\n\".join(lines[i + chunk_size:]) + \"\\n\")\n",
    "\n",
    "directory = \"../docs/\"  #local folder where the pdf files are saved\n",
    "chunk_dir = \"../chunks/\"  #local path where chunks are saved\n",
    "convert_pdfs_to_txt(directory)\n",
    "\n",
    "# Print the list of pdf files and the processed txt files\n",
    "print(os.listdir(directory))\n",
    "print(os.listdir(chunk_dir))\n",
    "\n"
   ]
  },
  {
   "cell_type": "markdown",
   "metadata": {},
   "source": [
    "Create a list with the chunks as its dictionary items. Each dictionary item contains key value pairs as ID, Content and Title. Title is to store the name of the document chunk & page number to use as a metadata while indexing for RAG apps."
   ]
  },
  {
   "cell_type": "code",
   "execution_count": null,
   "metadata": {},
   "outputs": [],
   "source": [
    "# chunk_dir is taken from the previous step.\n",
    "\n",
    "def txt_to_json(chunk_dir, output_file):\n",
    "  \"\"\"\n",
    "  Iterates through a directory of txt files and creates a JSON file with a dictionary.\n",
    "\n",
    "  Args:\n",
    "      directory_path: Path to the directory containing the txt files.\n",
    "      output_file: Path to the output JSON file.\n",
    "  \"\"\"\n",
    "  data = []\n",
    "  id_counter = 1\n",
    "\n",
    "  for filename in os.listdir(chunk_dir):\n",
    " \n",
    "    file_path = os.path.join(chunk_dir, filename)\n",
    "    with open(file_path, \"r\") as f:\n",
    "      content = f.read()\n",
    "    \n",
    "      data.append({\n",
    "          \"ID\": id_counter,\n",
    "          \"Title\": filename[:-4],  # Remove \".txt\" extension\n",
    "          \"Content\": content,\n",
    "      })\n",
    "    id_counter += 1\n",
    "\n",
    "  with open(os.path.join(json_dir, output_file), \"w\") as f:\n",
    "    json.dump(data, f, indent=4)\n",
    "\n",
    "\n",
    "\n",
    "output_file = \"data.json\" #name of the jsonfile\n",
    "json_dir = \"../jsonfiles/\"  # local path to save the json files\n",
    "txt_to_json(chunk_dir, output_file)\n",
    "print(f\"Successfully created JSON file: {output_file}\")\n"
   ]
  }
 ],
 "metadata": {
  "kernelspec": {
   "display_name": ".venv",
   "language": "python",
   "name": "python3"
  },
  "language_info": {
   "codemirror_mode": {
    "name": "ipython",
    "version": 3
   },
   "file_extension": ".py",
   "mimetype": "text/x-python",
   "name": "python",
   "nbconvert_exporter": "python",
   "pygments_lexer": "ipython3",
   "version": "3.9.6"
  }
 },
 "nbformat": 4,
 "nbformat_minor": 2
}
